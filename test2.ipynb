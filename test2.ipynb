{
 "cells": [
  {
   "metadata": {
    "ExecuteTime": {
     "end_time": "2025-07-28T01:21:52.845104Z",
     "start_time": "2025-07-28T01:21:46.266347Z"
    }
   },
   "cell_type": "code",
   "source": "!pip install sentencepiece\n",
   "id": "1bac5801646aab20",
   "outputs": [
    {
     "name": "stdout",
     "output_type": "stream",
     "text": [
      "Collecting sentencepiece\n",
      "  Downloading sentencepiece-0.2.0-cp312-cp312-win_amd64.whl.metadata (8.3 kB)\n",
      "Downloading sentencepiece-0.2.0-cp312-cp312-win_amd64.whl (991 kB)\n",
      "   ---------------------------------------- 0.0/992.0 kB ? eta -:--:--\n",
      "   --------------------- ------------------ 524.3/992.0 kB 4.2 MB/s eta 0:00:01\n",
      "   ------------------------------- -------- 786.4/992.0 kB 4.8 MB/s eta 0:00:01\n",
      "   ---------------------------------------- 992.0/992.0 kB 1.7 MB/s eta 0:00:00\n",
      "Installing collected packages: sentencepiece\n",
      "Successfully installed sentencepiece-0.2.0\n"
     ]
    }
   ],
   "execution_count": 1
  },
  {
   "metadata": {
    "ExecuteTime": {
     "end_time": "2025-07-28T01:26:17.494851Z",
     "start_time": "2025-07-28T01:26:15.851210Z"
    }
   },
   "cell_type": "code",
   "source": [
    "import sentencepiece as spm\n",
    "\n",
    "spm.SentencePieceTrainer.Train(\n",
    "    input=\"data/train.vi.txt\",\n",
    "    model_prefix='vi_bpe',\n",
    "    vocab_size=8000,                      # hoặc 16k, 32k tùy size data\n",
    "    model_type='bpe',                     # hoặc 'unigram'\n",
    "    bos_id=2,\n",
    "    eos_id=3,\n",
    "    pad_id=0,\n",
    "    unk_id=1,\n",
    "    user_defined_symbols=[\"<sos>\", \"<eos>\", \"<pad>\"]  # optional\n",
    ")\n",
    "\n"
   ],
   "id": "c71cb2c94dd362ab",
   "outputs": [],
   "execution_count": 9
  },
  {
   "metadata": {
    "ExecuteTime": {
     "end_time": "2025-07-28T01:27:11.516425Z",
     "start_time": "2025-07-28T01:27:11.509756Z"
    }
   },
   "cell_type": "code",
   "source": [
    "\n",
    "class SubwordTokenizer:\n",
    "    def __init__(self, model_path):\n",
    "        self.sp = spm.SentencePieceProcessor()\n",
    "        self.sp.load(model_path)\n",
    "\n",
    "        # ID các token đặc biệt\n",
    "        self.pad_id = self.sp.pad_id()\n",
    "        self.unk_id = self.sp.unk_id()\n",
    "        self.bos_id = self.sp.bos_id()\n",
    "        self.eos_id = self.sp.eos_id()\n",
    "\n",
    "    def encode(self, text, add_special_tokens=True, max_len=None):\n",
    "        ids = self.sp.encode(text, out_type=int)\n",
    "        if add_special_tokens:\n",
    "            ids = [self.bos_id] + ids + [self.eos_id]\n",
    "        if max_len:\n",
    "            ids = ids[:max_len]\n",
    "        return ids\n",
    "\n",
    "    def decode(self, ids, skip_special_tokens=True):\n",
    "        if skip_special_tokens:\n",
    "            ids = [i for i in ids if i not in [self.pad_id, self.bos_id, self.eos_id]]\n",
    "        return self.sp.decode(ids)\n",
    "\n",
    "    def tokenize(self, text):\n",
    "        return self.sp.encode(text, out_type=str)\n",
    "\n",
    "    def vocab_size(self):\n",
    "        return self.sp.get_piece_size()\n",
    "\n",
    "    def pad_sequence(self, ids, max_len):\n",
    "        if len(ids) > max_len:\n",
    "            return ids[:max_len]\n",
    "        return ids + [self.pad_id] * (max_len - len(ids))\n"
   ],
   "id": "22cd024c6a7ab390",
   "outputs": [],
   "execution_count": 10
  },
  {
   "metadata": {
    "ExecuteTime": {
     "end_time": "2025-07-28T01:27:15.154195Z",
     "start_time": "2025-07-28T01:27:15.139795Z"
    }
   },
   "cell_type": "code",
   "source": [
    "tokenizer = SubwordTokenizer(\"vi_bpe.model\")\n",
    "\n",
    "text = \"Xin chào các bạn khỏe không?\"\n",
    "ids = tokenizer.encode(text)\n",
    "tokens = tokenizer.tokenize(text)\n",
    "\n",
    "print(\"Token IDs:\", ids)\n",
    "print(\"Tokens:\", tokens)\n",
    "print(\"Decoded:\", tokenizer.decode(ids))\n"
   ],
   "id": "769de258f8395fbd",
   "outputs": [
    {
     "name": "stdout",
     "output_type": "stream",
     "text": [
      "Token IDs: [2, 1066, 1846, 58, 73, 25, 7943, 7906, 62, 7946, 3]\n",
      "Tokens: ['▁Xin', '▁chào', '▁các', '▁bạn', '▁kh', 'ỏ', 'e', '▁không', '?']\n",
      "Decoded: Xin chào các bạn khỏe không?\n"
     ]
    }
   ],
   "execution_count": 11
  }
 ],
 "metadata": {
  "kernelspec": {
   "display_name": "Python 3",
   "language": "python",
   "name": "python3"
  },
  "language_info": {
   "codemirror_mode": {
    "name": "ipython",
    "version": 2
   },
   "file_extension": ".py",
   "mimetype": "text/x-python",
   "name": "python",
   "nbconvert_exporter": "python",
   "pygments_lexer": "ipython2",
   "version": "2.7.6"
  }
 },
 "nbformat": 4,
 "nbformat_minor": 5
}
